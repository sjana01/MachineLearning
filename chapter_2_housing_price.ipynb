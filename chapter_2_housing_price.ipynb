{
 "cells": [
  {
   "cell_type": "markdown",
   "id": "3013230c",
   "metadata": {},
   "source": [
    "# Chapter 2: End to End ML Project"
   ]
  },
  {
   "cell_type": "markdown",
   "id": "7cc1e0ab",
   "metadata": {},
   "source": [
    "This a complete ML project to come up with the best model to predict housing values from a housing dataset in California."
   ]
  },
  {
   "cell_type": "code",
   "execution_count": 2,
   "id": "a139c931",
   "metadata": {},
   "outputs": [],
   "source": [
    "import numpy as np\n",
    "import pandas as pd\n",
    "import matplotlib.pyplot as plt"
   ]
  },
  {
   "cell_type": "code",
   "execution_count": 3,
   "id": "3dcb6d8c",
   "metadata": {},
   "outputs": [],
   "source": [
    "import os\n",
    "pwd = os.getcwd()\n",
    "filepath = os.path.join(pwd, \"housing.csv\")"
   ]
  },
  {
   "cell_type": "code",
   "execution_count": 4,
   "id": "25e7037e",
   "metadata": {},
   "outputs": [
    {
     "data": {
      "text/html": [
       "<div>\n",
       "<style scoped>\n",
       "    .dataframe tbody tr th:only-of-type {\n",
       "        vertical-align: middle;\n",
       "    }\n",
       "\n",
       "    .dataframe tbody tr th {\n",
       "        vertical-align: top;\n",
       "    }\n",
       "\n",
       "    .dataframe thead th {\n",
       "        text-align: right;\n",
       "    }\n",
       "</style>\n",
       "<table border=\"1\" class=\"dataframe\">\n",
       "  <thead>\n",
       "    <tr style=\"text-align: right;\">\n",
       "      <th></th>\n",
       "      <th>longitude</th>\n",
       "      <th>latitude</th>\n",
       "      <th>housing_median_age</th>\n",
       "      <th>total_rooms</th>\n",
       "      <th>total_bedrooms</th>\n",
       "      <th>population</th>\n",
       "      <th>households</th>\n",
       "      <th>median_income</th>\n",
       "      <th>median_house_value</th>\n",
       "      <th>ocean_proximity</th>\n",
       "    </tr>\n",
       "  </thead>\n",
       "  <tbody>\n",
       "    <tr>\n",
       "      <th>0</th>\n",
       "      <td>-122.23</td>\n",
       "      <td>37.88</td>\n",
       "      <td>41.0</td>\n",
       "      <td>880.0</td>\n",
       "      <td>129.0</td>\n",
       "      <td>322.0</td>\n",
       "      <td>126.0</td>\n",
       "      <td>8.3252</td>\n",
       "      <td>452600.0</td>\n",
       "      <td>NEAR BAY</td>\n",
       "    </tr>\n",
       "    <tr>\n",
       "      <th>1</th>\n",
       "      <td>-122.22</td>\n",
       "      <td>37.86</td>\n",
       "      <td>21.0</td>\n",
       "      <td>7099.0</td>\n",
       "      <td>1106.0</td>\n",
       "      <td>2401.0</td>\n",
       "      <td>1138.0</td>\n",
       "      <td>8.3014</td>\n",
       "      <td>358500.0</td>\n",
       "      <td>NEAR BAY</td>\n",
       "    </tr>\n",
       "    <tr>\n",
       "      <th>2</th>\n",
       "      <td>-122.24</td>\n",
       "      <td>37.85</td>\n",
       "      <td>52.0</td>\n",
       "      <td>1467.0</td>\n",
       "      <td>190.0</td>\n",
       "      <td>496.0</td>\n",
       "      <td>177.0</td>\n",
       "      <td>7.2574</td>\n",
       "      <td>352100.0</td>\n",
       "      <td>NEAR BAY</td>\n",
       "    </tr>\n",
       "    <tr>\n",
       "      <th>3</th>\n",
       "      <td>-122.25</td>\n",
       "      <td>37.85</td>\n",
       "      <td>52.0</td>\n",
       "      <td>1274.0</td>\n",
       "      <td>235.0</td>\n",
       "      <td>558.0</td>\n",
       "      <td>219.0</td>\n",
       "      <td>5.6431</td>\n",
       "      <td>341300.0</td>\n",
       "      <td>NEAR BAY</td>\n",
       "    </tr>\n",
       "    <tr>\n",
       "      <th>4</th>\n",
       "      <td>-122.25</td>\n",
       "      <td>37.85</td>\n",
       "      <td>52.0</td>\n",
       "      <td>1627.0</td>\n",
       "      <td>280.0</td>\n",
       "      <td>565.0</td>\n",
       "      <td>259.0</td>\n",
       "      <td>3.8462</td>\n",
       "      <td>342200.0</td>\n",
       "      <td>NEAR BAY</td>\n",
       "    </tr>\n",
       "  </tbody>\n",
       "</table>\n",
       "</div>"
      ],
      "text/plain": [
       "   longitude  latitude  housing_median_age  total_rooms  total_bedrooms  \\\n",
       "0    -122.23     37.88                41.0        880.0           129.0   \n",
       "1    -122.22     37.86                21.0       7099.0          1106.0   \n",
       "2    -122.24     37.85                52.0       1467.0           190.0   \n",
       "3    -122.25     37.85                52.0       1274.0           235.0   \n",
       "4    -122.25     37.85                52.0       1627.0           280.0   \n",
       "\n",
       "   population  households  median_income  median_house_value ocean_proximity  \n",
       "0       322.0       126.0         8.3252            452600.0        NEAR BAY  \n",
       "1      2401.0      1138.0         8.3014            358500.0        NEAR BAY  \n",
       "2       496.0       177.0         7.2574            352100.0        NEAR BAY  \n",
       "3       558.0       219.0         5.6431            341300.0        NEAR BAY  \n",
       "4       565.0       259.0         3.8462            342200.0        NEAR BAY  "
      ]
     },
     "execution_count": 4,
     "metadata": {},
     "output_type": "execute_result"
    }
   ],
   "source": [
    "df_housing = pd.read_csv(filepath)\n",
    "df_housing.head()"
   ]
  },
  {
   "cell_type": "code",
   "execution_count": 5,
   "id": "2c30b98d",
   "metadata": {},
   "outputs": [
    {
     "name": "stdout",
     "output_type": "stream",
     "text": [
      "<class 'pandas.core.frame.DataFrame'>\n",
      "RangeIndex: 20640 entries, 0 to 20639\n",
      "Data columns (total 10 columns):\n",
      " #   Column              Non-Null Count  Dtype  \n",
      "---  ------              --------------  -----  \n",
      " 0   longitude           20640 non-null  float64\n",
      " 1   latitude            20640 non-null  float64\n",
      " 2   housing_median_age  20640 non-null  float64\n",
      " 3   total_rooms         20640 non-null  float64\n",
      " 4   total_bedrooms      20433 non-null  float64\n",
      " 5   population          20640 non-null  float64\n",
      " 6   households          20640 non-null  float64\n",
      " 7   median_income       20640 non-null  float64\n",
      " 8   median_house_value  20640 non-null  float64\n",
      " 9   ocean_proximity     20640 non-null  object \n",
      "dtypes: float64(9), object(1)\n",
      "memory usage: 1.6+ MB\n"
     ]
    }
   ],
   "source": [
    "df_housing.info()"
   ]
  },
  {
   "cell_type": "code",
   "execution_count": 6,
   "id": "403bd7ec",
   "metadata": {},
   "outputs": [
    {
     "data": {
      "text/plain": [
       "<AxesSubplot:>"
      ]
     },
     "execution_count": 6,
     "metadata": {},
     "output_type": "execute_result"
    },
    {
     "data": {
      "image/png": "[encoded data removed]",
      "text/plain": [
       "<Figure size 432x288 with 1 Axes>"
      ]
     },
     "metadata": {
      "needs_background": "light"
     },
     "output_type": "display_data"
    }
   ],
   "source": [
    "df_housing['ocean_proximity'].value_counts().plot(kind='barh')"
   ]
  },
  {
   "cell_type": "code",
   "execution_count": 7,
   "id": "20244fa2",
   "metadata": {},
   "outputs": [
    {
     "data": {
      "text/html": [
       "<div>\n",
       "<style scoped>\n",
       "    .dataframe tbody tr th:only-of-type {\n",
       "        vertical-align: middle;\n",
       "    }\n",
       "\n",
       "    .dataframe tbody tr th {\n",
       "        vertical-align: top;\n",
       "    }\n",
       "\n",
       "    .dataframe thead th {\n",
       "        text-align: right;\n",
       "    }\n",
       "</style>\n",
       "<table border=\"1\" class=\"dataframe\">\n",
       "  <thead>\n",
       "    <tr style=\"text-align: right;\">\n",
       "      <th></th>\n",
       "      <th>longitude</th>\n",
       "      <th>latitude</th>\n",
       "      <th>housing_median_age</th>\n",
       "      <th>total_rooms</th>\n",
       "      <th>total_bedrooms</th>\n",
       "      <th>population</th>\n",
       "      <th>households</th>\n",
       "      <th>median_income</th>\n",
       "      <th>median_house_value</th>\n",
       "    </tr>\n",
       "  </thead>\n",
       "  <tbody>\n",
       "    <tr>\n",
       "      <th>count</th>\n",
       "      <td>20640.000000</td>\n",
       "      <td>20640.000000</td>\n",
       "      <td>20640.000000</td>\n",
       "      <td>20640.000000</td>\n",
       "      <td>20433.000000</td>\n",
       "      <td>20640.000000</td>\n",
       "      <td>20640.000000</td>\n",
       "      <td>20640.000000</td>\n",
       "      <td>20640.000000</td>\n",
       "    </tr>\n",
       "    <tr>\n",
       "      <th>mean</th>\n",
       "      <td>-119.569704</td>\n",
       "      <td>35.631861</td>\n",
       "      <td>28.639486</td>\n",
       "      <td>2635.763081</td>\n",
       "      <td>537.870553</td>\n",
       "      <td>1425.476744</td>\n",
       "      <td>499.539680</td>\n",
       "      <td>3.870671</td>\n",
       "      <td>206855.816909</td>\n",
       "    </tr>\n",
       "    <tr>\n",
       "      <th>std</th>\n",
       "      <td>2.003532</td>\n",
       "      <td>2.135952</td>\n",
       "      <td>12.585558</td>\n",
       "      <td>2181.615252</td>\n",
       "      <td>421.385070</td>\n",
       "      <td>1132.462122</td>\n",
       "      <td>382.329753</td>\n",
       "      <td>1.899822</td>\n",
       "      <td>115395.615874</td>\n",
       "    </tr>\n",
       "    <tr>\n",
       "      <th>min</th>\n",
       "      <td>-124.350000</td>\n",
       "      <td>32.540000</td>\n",
       "      <td>1.000000</td>\n",
       "      <td>2.000000</td>\n",
       "      <td>1.000000</td>\n",
       "      <td>3.000000</td>\n",
       "      <td>1.000000</td>\n",
       "      <td>0.499900</td>\n",
       "      <td>14999.000000</td>\n",
       "    </tr>\n",
       "    <tr>\n",
       "      <th>25%</th>\n",
       "      <td>-121.800000</td>\n",
       "      <td>33.930000</td>\n",
       "      <td>18.000000</td>\n",
       "      <td>1447.750000</td>\n",
       "      <td>296.000000</td>\n",
       "      <td>787.000000</td>\n",
       "      <td>280.000000</td>\n",
       "      <td>2.563400</td>\n",
       "      <td>119600.000000</td>\n",
       "    </tr>\n",
       "    <tr>\n",
       "      <th>50%</th>\n",
       "      <td>-118.490000</td>\n",
       "      <td>34.260000</td>\n",
       "      <td>29.000000</td>\n",
       "      <td>2127.000000</td>\n",
       "      <td>435.000000</td>\n",
       "      <td>1166.000000</td>\n",
       "      <td>409.000000</td>\n",
       "      <td>3.534800</td>\n",
       "      <td>179700.000000</td>\n",
       "    </tr>\n",
       "    <tr>\n",
       "      <th>75%</th>\n",
       "      <td>-118.010000</td>\n",
       "      <td>37.710000</td>\n",
       "      <td>37.000000</td>\n",
       "      <td>3148.000000</td>\n",
       "      <td>647.000000</td>\n",
       "      <td>1725.000000</td>\n",
       "      <td>605.000000</td>\n",
       "      <td>4.743250</td>\n",
       "      <td>264725.000000</td>\n",
       "    </tr>\n",
       "    <tr>\n",
       "      <th>max</th>\n",
       "      <td>-114.310000</td>\n",
       "      <td>41.950000</td>\n",
       "      <td>52.000000</td>\n",
       "      <td>39320.000000</td>\n",
       "      <td>6445.000000</td>\n",
       "      <td>35682.000000</td>\n",
       "      <td>6082.000000</td>\n",
       "      <td>15.000100</td>\n",
       "      <td>500001.000000</td>\n",
       "    </tr>\n",
       "  </tbody>\n",
       "</table>\n",
       "</div>"
      ],
      "text/plain": [
       "          longitude      latitude  housing_median_age   total_rooms  \\\n",
       "count  20640.000000  20640.000000        20640.000000  20640.000000   \n",
       "mean    -119.569704     35.631861           28.639486   2635.763081   \n",
       "std        2.003532      2.135952           12.585558   2181.615252   \n",
       "min     -124.350000     32.540000            1.000000      2.000000   \n",
       "25%     -121.800000     33.930000           18.000000   1447.750000   \n",
       "50%     -118.490000     34.260000           29.000000   2127.000000   \n",
       "75%     -118.010000     37.710000           37.000000   3148.000000   \n",
       "max     -114.310000     41.950000           52.000000  39320.000000   \n",
       "\n",
       "       total_bedrooms    population    households  median_income  \\\n",
       "count    20433.000000  20640.000000  20640.000000   20640.000000   \n",
       "mean       537.870553   1425.476744    499.539680       3.870671   \n",
       "std        421.385070   1132.462122    382.329753       1.899822   \n",
       "min          1.000000      3.000000      1.000000       0.499900   \n",
       "25%        296.000000    787.000000    280.000000       2.563400   \n",
       "50%        435.000000   1166.000000    409.000000       3.534800   \n",
       "75%        647.000000   1725.000000    605.000000       4.743250   \n",
       "max       6445.000000  35682.000000   6082.000000      15.000100   \n",
       "\n",
       "       median_house_value  \n",
       "count        20640.000000  \n",
       "mean        206855.816909  \n",
       "std         115395.615874  \n",
       "min          14999.000000  \n",
       "25%         119600.000000  \n",
       "50%         179700.000000  \n",
       "75%         264725.000000  \n",
       "max         500001.000000  "
      ]
     },
     "execution_count": 7,
     "metadata": {},
     "output_type": "execute_result"
    }
   ],
   "source": [
    "df_housing.describe()"
   ]
  },
  {
   "cell_type": "code",
   "execution_count": 8,
   "id": "75db90eb",
   "metadata": {},
   "outputs": [
    {
     "data": {
      "text/plain": [
       "<AxesSubplot:>"
      ]
     },
     "execution_count": 8,
     "metadata": {},
     "output_type": "execute_result"
    },
    {
     "data": {
      "image/png": "[encoded data removed]",
      "text/plain": [
       "<Figure size 432x288 with 1 Axes>"
      ]
     },
     "metadata": {
      "needs_background": "light"
     },
     "output_type": "display_data"
    }
   ],
   "source": [
    "df_housing['median_income'].hist()"
   ]
  },
  {
   "cell_type": "code",
   "execution_count": 9,
   "id": "21af93f6",
   "metadata": {},
   "outputs": [
    {
     "data": {
      "text/plain": [
       "<AxesSubplot:>"
      ]
     },
     "execution_count": 9,
     "metadata": {},
     "output_type": "execute_result"
    },
    {
     "data": {
      "image/png": "[encoded data removed]",
      "text/plain": [
       "<Figure size 432x288 with 1 Axes>"
      ]
     },
     "metadata": {
      "needs_background": "light"
     },
     "output_type": "display_data"
    }
   ],
   "source": [
    "df_housing['income_cat'] = pd.cut(df_housing['median_income'], bins=[0.0, 1.5, 2.5, 3.5, 4.5, 5.5, 7.0, np.inf], \n",
    "                                                            labels=[1,2,3,4,5,6,7])\n",
    "df_housing['income_cat'].hist()"
   ]
  },
  {
   "cell_type": "code",
   "execution_count": 10,
   "id": "1263b020",
   "metadata": {},
   "outputs": [
    {
     "data": {
      "text/html": [
       "<div>\n",
       "<style scoped>\n",
       "    .dataframe tbody tr th:only-of-type {\n",
       "        vertical-align: middle;\n",
       "    }\n",
       "\n",
       "    .dataframe tbody tr th {\n",
       "        vertical-align: top;\n",
       "    }\n",
       "\n",
       "    .dataframe thead th {\n",
       "        text-align: right;\n",
       "    }\n",
       "</style>\n",
       "<table border=\"1\" class=\"dataframe\">\n",
       "  <thead>\n",
       "    <tr style=\"text-align: right;\">\n",
       "      <th></th>\n",
       "      <th>longitude</th>\n",
       "      <th>latitude</th>\n",
       "      <th>housing_median_age</th>\n",
       "      <th>total_rooms</th>\n",
       "      <th>total_bedrooms</th>\n",
       "      <th>population</th>\n",
       "      <th>households</th>\n",
       "      <th>median_income</th>\n",
       "      <th>ocean_proximity</th>\n",
       "      <th>income_cat</th>\n",
       "    </tr>\n",
       "  </thead>\n",
       "  <tbody>\n",
       "    <tr>\n",
       "      <th>0</th>\n",
       "      <td>-122.23</td>\n",
       "      <td>37.88</td>\n",
       "      <td>41.0</td>\n",
       "      <td>880.0</td>\n",
       "      <td>129.0</td>\n",
       "      <td>322.0</td>\n",
       "      <td>126.0</td>\n",
       "      <td>8.3252</td>\n",
       "      <td>NEAR BAY</td>\n",
       "      <td>7</td>\n",
       "    </tr>\n",
       "    <tr>\n",
       "      <th>1</th>\n",
       "      <td>-122.22</td>\n",
       "      <td>37.86</td>\n",
       "      <td>21.0</td>\n",
       "      <td>7099.0</td>\n",
       "      <td>1106.0</td>\n",
       "      <td>2401.0</td>\n",
       "      <td>1138.0</td>\n",
       "      <td>8.3014</td>\n",
       "      <td>NEAR BAY</td>\n",
       "      <td>7</td>\n",
       "    </tr>\n",
       "    <tr>\n",
       "      <th>2</th>\n",
       "      <td>-122.24</td>\n",
       "      <td>37.85</td>\n",
       "      <td>52.0</td>\n",
       "      <td>1467.0</td>\n",
       "      <td>190.0</td>\n",
       "      <td>496.0</td>\n",
       "      <td>177.0</td>\n",
       "      <td>7.2574</td>\n",
       "      <td>NEAR BAY</td>\n",
       "      <td>7</td>\n",
       "    </tr>\n",
       "    <tr>\n",
       "      <th>3</th>\n",
       "      <td>-122.25</td>\n",
       "      <td>37.85</td>\n",
       "      <td>52.0</td>\n",
       "      <td>1274.0</td>\n",
       "      <td>235.0</td>\n",
       "      <td>558.0</td>\n",
       "      <td>219.0</td>\n",
       "      <td>5.6431</td>\n",
       "      <td>NEAR BAY</td>\n",
       "      <td>6</td>\n",
       "    </tr>\n",
       "    <tr>\n",
       "      <th>4</th>\n",
       "      <td>-122.25</td>\n",
       "      <td>37.85</td>\n",
       "      <td>52.0</td>\n",
       "      <td>1627.0</td>\n",
       "      <td>280.0</td>\n",
       "      <td>565.0</td>\n",
       "      <td>259.0</td>\n",
       "      <td>3.8462</td>\n",
       "      <td>NEAR BAY</td>\n",
       "      <td>4</td>\n",
       "    </tr>\n",
       "    <tr>\n",
       "      <th>...</th>\n",
       "      <td>...</td>\n",
       "      <td>...</td>\n",
       "      <td>...</td>\n",
       "      <td>...</td>\n",
       "      <td>...</td>\n",
       "      <td>...</td>\n",
       "      <td>...</td>\n",
       "      <td>...</td>\n",
       "      <td>...</td>\n",
       "      <td>...</td>\n",
       "    </tr>\n",
       "    <tr>\n",
       "      <th>20635</th>\n",
       "      <td>-121.09</td>\n",
       "      <td>39.48</td>\n",
       "      <td>25.0</td>\n",
       "      <td>1665.0</td>\n",
       "      <td>374.0</td>\n",
       "      <td>845.0</td>\n",
       "      <td>330.0</td>\n",
       "      <td>1.5603</td>\n",
       "      <td>INLAND</td>\n",
       "      <td>2</td>\n",
       "    </tr>\n",
       "    <tr>\n",
       "      <th>20636</th>\n",
       "      <td>-121.21</td>\n",
       "      <td>39.49</td>\n",
       "      <td>18.0</td>\n",
       "      <td>697.0</td>\n",
       "      <td>150.0</td>\n",
       "      <td>356.0</td>\n",
       "      <td>114.0</td>\n",
       "      <td>2.5568</td>\n",
       "      <td>INLAND</td>\n",
       "      <td>3</td>\n",
       "    </tr>\n",
       "    <tr>\n",
       "      <th>20637</th>\n",
       "      <td>-121.22</td>\n",
       "      <td>39.43</td>\n",
       "      <td>17.0</td>\n",
       "      <td>2254.0</td>\n",
       "      <td>485.0</td>\n",
       "      <td>1007.0</td>\n",
       "      <td>433.0</td>\n",
       "      <td>1.7000</td>\n",
       "      <td>INLAND</td>\n",
       "      <td>2</td>\n",
       "    </tr>\n",
       "    <tr>\n",
       "      <th>20638</th>\n",
       "      <td>-121.32</td>\n",
       "      <td>39.43</td>\n",
       "      <td>18.0</td>\n",
       "      <td>1860.0</td>\n",
       "      <td>409.0</td>\n",
       "      <td>741.0</td>\n",
       "      <td>349.0</td>\n",
       "      <td>1.8672</td>\n",
       "      <td>INLAND</td>\n",
       "      <td>2</td>\n",
       "    </tr>\n",
       "    <tr>\n",
       "      <th>20639</th>\n",
       "      <td>-121.24</td>\n",
       "      <td>39.37</td>\n",
       "      <td>16.0</td>\n",
       "      <td>2785.0</td>\n",
       "      <td>616.0</td>\n",
       "      <td>1387.0</td>\n",
       "      <td>530.0</td>\n",
       "      <td>2.3886</td>\n",
       "      <td>INLAND</td>\n",
       "      <td>2</td>\n",
       "    </tr>\n",
       "  </tbody>\n",
       "</table>\n",
       "<p>20640 rows × 10 columns</p>\n",
       "</div>"
      ],
      "text/plain": [
       "       longitude  latitude  housing_median_age  total_rooms  total_bedrooms  \\\n",
       "0        -122.23     37.88                41.0        880.0           129.0   \n",
       "1        -122.22     37.86                21.0       7099.0          1106.0   \n",
       "2        -122.24     37.85                52.0       1467.0           190.0   \n",
       "3        -122.25     37.85                52.0       1274.0           235.0   \n",
       "4        -122.25     37.85                52.0       1627.0           280.0   \n",
       "...          ...       ...                 ...          ...             ...   \n",
       "20635    -121.09     39.48                25.0       1665.0           374.0   \n",
       "20636    -121.21     39.49                18.0        697.0           150.0   \n",
       "20637    -121.22     39.43                17.0       2254.0           485.0   \n",
       "20638    -121.32     39.43                18.0       1860.0           409.0   \n",
       "20639    -121.24     39.37                16.0       2785.0           616.0   \n",
       "\n",
       "       population  households  median_income ocean_proximity income_cat  \n",
       "0           322.0       126.0         8.3252        NEAR BAY          7  \n",
       "1          2401.0      1138.0         8.3014        NEAR BAY          7  \n",
       "2           496.0       177.0         7.2574        NEAR BAY          7  \n",
       "3           558.0       219.0         5.6431        NEAR BAY          6  \n",
       "4           565.0       259.0         3.8462        NEAR BAY          4  \n",
       "...           ...         ...            ...             ...        ...  \n",
       "20635       845.0       330.0         1.5603          INLAND          2  \n",
       "20636       356.0       114.0         2.5568          INLAND          3  \n",
       "20637      1007.0       433.0         1.7000          INLAND          2  \n",
       "20638       741.0       349.0         1.8672          INLAND          2  \n",
       "20639      1387.0       530.0         2.3886          INLAND          2  \n",
       "\n",
       "[20640 rows x 10 columns]"
      ]
     },
     "execution_count": 10,
     "metadata": {},
     "output_type": "execute_result"
    }
   ],
   "source": [
    "y = df_housing['median_house_value']\n",
    "X = df_housing.drop('median_house_value', axis=1)\n",
    "X"
   ]
  },
  {
   "cell_type": "markdown",
   "id": "6933c325",
   "metadata": {},
   "source": [
    "## Split Datasets"
   ]
  },
  {
   "cell_type": "code",
   "execution_count": 11,
   "id": "4191788a",
   "metadata": {},
   "outputs": [],
   "source": [
    "from sklearn.model_selection import train_test_split\n",
    "\n",
    "X_train, X_test, y_train, y_test = train_test_split(X, y, test_size=0.25)"
   ]
  },
  {
   "cell_type": "code",
   "execution_count": 12,
   "id": "d1b7e18c",
   "metadata": {},
   "outputs": [
    {
     "data": {
      "text/plain": [
       "<AxesSubplot:>"
      ]
     },
     "execution_count": 12,
     "metadata": {},
     "output_type": "execute_result"
    },
    {
     "data": {
      "image/png": "[encoded data removed]",
      "text/plain": [
       "<Figure size 432x288 with 1 Axes>"
      ]
     },
     "metadata": {
      "needs_background": "light"
     },
     "output_type": "display_data"
    }
   ],
   "source": [
    "df_housing['income_cat'].hist()"
   ]
  },
  {
   "cell_type": "markdown",
   "id": "a8420a90",
   "metadata": {},
   "source": [
    "Splitting the data into training and testing data may result in uneven splitting with respect to a variable. In this case this does not happen. But in general to make sure training and testing data is split evenly we will use `Stratified Split`.  "
   ]
  },
  {
   "cell_type": "code",
   "execution_count": 13,
   "id": "0d07f95b",
   "metadata": {},
   "outputs": [
    {
     "data": {
      "text/plain": [
       "<AxesSubplot:>"
      ]
     },
     "execution_count": 13,
     "metadata": {},
     "output_type": "execute_result"
    },
    {
     "data": {
      "image/png": "[encoded data removed]",
      "text/plain": [
       "<Figure size 432x288 with 1 Axes>"
      ]
     },
     "metadata": {
      "needs_background": "light"
     },
     "output_type": "display_data"
    }
   ],
   "source": [
    "X_train['income_cat'].hist()"
   ]
  },
  {
   "cell_type": "markdown",
   "id": "12087579",
   "metadata": {},
   "source": [
    "### Stratified Split"
   ]
  },
  {
   "cell_type": "markdown",
   "id": "adea501a",
   "metadata": {},
   "source": [
    "Stratified ShuffleSplit cross-validator\n",
    "\n",
    "Provides train/test indices to split data in train/test sets.\n",
    "\n",
    "This cross-validation object is a merge of StratifiedKFold and ShuffleSplit, which returns stratified randomized folds. The folds are made by preserving the percentage of samples for each class.\n",
    "\n",
    "Note: like the ShuffleSplit strategy, stratified random splits do not guarantee that all folds will be different, although this is still very likely for sizeable datasets."
   ]
  },
  {
   "cell_type": "code",
   "execution_count": 14,
   "id": "62b7614c",
   "metadata": {},
   "outputs": [],
   "source": [
    "from sklearn.model_selection import StratifiedShuffleSplit\n",
    "\n",
    "split = StratifiedShuffleSplit(n_splits=1, test_size=0.25, random_state=33)\n",
    "for train_index, test_index, in split.split(df_housing, df_housing['income_cat']):\n",
    "    strat_train_set = df_housing.loc[train_index]\n",
    "    strat_test_set = df_housing.loc[test_index]"
   ]
  },
  {
   "cell_type": "markdown",
   "id": "f16ffb65",
   "metadata": {},
   "source": [
    "`StratifiedShuffleSplit` makes sure the distribution of data-points in `income_cat` is same for training and testing set. Let us compare `StratifiedShuffleSplit` and `train_test_split` by looking at the respective proportions."
   ]
  },
  {
   "cell_type": "code",
   "execution_count": 15,
   "id": "d0c79276",
   "metadata": {},
   "outputs": [
    {
     "data": {
      "text/plain": [
       "3    0.257752\n",
       "4    0.218798\n",
       "2    0.193023\n",
       "5    0.135659\n",
       "6    0.096899\n",
       "7    0.058140\n",
       "1    0.039729\n",
       "Name: income_cat, dtype: float64"
      ]
     },
     "execution_count": 15,
     "metadata": {},
     "output_type": "execute_result"
    }
   ],
   "source": [
    "strat_test_set['income_cat'].value_counts()/len(strat_test_set)"
   ]
  },
  {
   "cell_type": "code",
   "execution_count": 16,
   "id": "53b92e8b",
   "metadata": {},
   "outputs": [
    {
     "data": {
      "text/plain": [
       "3    0.257623\n",
       "4    0.218798\n",
       "2    0.192959\n",
       "5    0.135724\n",
       "6    0.096964\n",
       "7    0.058075\n",
       "1    0.039858\n",
       "Name: income_cat, dtype: float64"
      ]
     },
     "execution_count": 16,
     "metadata": {},
     "output_type": "execute_result"
    }
   ],
   "source": [
    "strat_train_set['income_cat'].value_counts()/len(strat_train_set)"
   ]
  },
  {
   "cell_type": "code",
   "execution_count": 17,
   "id": "4b71c44b",
   "metadata": {},
   "outputs": [
    {
     "data": {
      "text/html": [
       "<div>\n",
       "<style scoped>\n",
       "    .dataframe tbody tr th:only-of-type {\n",
       "        vertical-align: middle;\n",
       "    }\n",
       "\n",
       "    .dataframe tbody tr th {\n",
       "        vertical-align: top;\n",
       "    }\n",
       "\n",
       "    .dataframe thead th {\n",
       "        text-align: right;\n",
       "    }\n",
       "</style>\n",
       "<table border=\"1\" class=\"dataframe\">\n",
       "  <thead>\n",
       "    <tr style=\"text-align: right;\">\n",
       "      <th></th>\n",
       "      <th>Overall</th>\n",
       "      <th>Random</th>\n",
       "      <th>Stratified</th>\n",
       "      <th>% error (Random)</th>\n",
       "      <th>% error (Stratified)</th>\n",
       "    </tr>\n",
       "  </thead>\n",
       "  <tbody>\n",
       "    <tr>\n",
       "      <th>1</th>\n",
       "      <td>0.039826</td>\n",
       "      <td>0.039729</td>\n",
       "      <td>0.039729</td>\n",
       "      <td>-0.243309</td>\n",
       "      <td>-2.433090e-01</td>\n",
       "    </tr>\n",
       "    <tr>\n",
       "      <th>2</th>\n",
       "      <td>0.192975</td>\n",
       "      <td>0.187597</td>\n",
       "      <td>0.193023</td>\n",
       "      <td>-2.786844</td>\n",
       "      <td>2.510670e-02</td>\n",
       "    </tr>\n",
       "    <tr>\n",
       "      <th>3</th>\n",
       "      <td>0.257655</td>\n",
       "      <td>0.261240</td>\n",
       "      <td>0.257752</td>\n",
       "      <td>1.391501</td>\n",
       "      <td>3.760812e-02</td>\n",
       "    </tr>\n",
       "    <tr>\n",
       "      <th>4</th>\n",
       "      <td>0.218798</td>\n",
       "      <td>0.219186</td>\n",
       "      <td>0.218798</td>\n",
       "      <td>0.177148</td>\n",
       "      <td>-1.421085e-14</td>\n",
       "    </tr>\n",
       "    <tr>\n",
       "      <th>5</th>\n",
       "      <td>0.135707</td>\n",
       "      <td>0.128682</td>\n",
       "      <td>0.135659</td>\n",
       "      <td>-5.176723</td>\n",
       "      <td>-3.570154e-02</td>\n",
       "    </tr>\n",
       "    <tr>\n",
       "      <th>6</th>\n",
       "      <td>0.096948</td>\n",
       "      <td>0.099225</td>\n",
       "      <td>0.096899</td>\n",
       "      <td>2.348826</td>\n",
       "      <td>-4.997501e-02</td>\n",
       "    </tr>\n",
       "    <tr>\n",
       "      <th>7</th>\n",
       "      <td>0.058091</td>\n",
       "      <td>0.064341</td>\n",
       "      <td>0.058140</td>\n",
       "      <td>10.758966</td>\n",
       "      <td>8.340284e-02</td>\n",
       "    </tr>\n",
       "  </tbody>\n",
       "</table>\n",
       "</div>"
      ],
      "text/plain": [
       "    Overall    Random  Stratified  % error (Random)  % error (Stratified)\n",
       "1  0.039826  0.039729    0.039729         -0.243309         -2.433090e-01\n",
       "2  0.192975  0.187597    0.193023         -2.786844          2.510670e-02\n",
       "3  0.257655  0.261240    0.257752          1.391501          3.760812e-02\n",
       "4  0.218798  0.219186    0.218798          0.177148         -1.421085e-14\n",
       "5  0.135707  0.128682    0.135659         -5.176723         -3.570154e-02\n",
       "6  0.096948  0.099225    0.096899          2.348826         -4.997501e-02\n",
       "7  0.058091  0.064341    0.058140         10.758966          8.340284e-02"
      ]
     },
     "execution_count": 17,
     "metadata": {},
     "output_type": "execute_result"
    }
   ],
   "source": [
    "def income_cat_props(data):\n",
    "    return data['income_cat'].value_counts()/len(data)\n",
    "\n",
    "train_set , test_set = train_test_split(df_housing, test_size=0.25, random_state=33)\n",
    "\n",
    "compare_props = pd.DataFrame({ \"Overall\" : income_cat_props(df_housing),\n",
    "                                \"Random\" : income_cat_props(test_set),\n",
    "                                \"Stratified\" : income_cat_props(strat_test_set)}).sort_index()\n",
    "\n",
    "compare_props[\"% error (Random)\"] = 100 * compare_props[\"Random\"] / compare_props[\"Overall\"] - 100\n",
    "compare_props[\"% error (Stratified)\"] = 100 * compare_props[\"Stratified\"] / compare_props[\"Overall\"] - 100\n",
    "\n",
    "compare_props"
   ]
  },
  {
   "cell_type": "code",
   "execution_count": 18,
   "id": "d2b51a99",
   "metadata": {},
   "outputs": [],
   "source": [
    "strat_train_set.drop('income_cat', axis=1, inplace=True)\n",
    "strat_test_set.drop('income_cat', axis=1, inplace=True)"
   ]
  },
  {
   "cell_type": "markdown",
   "id": "7771f80f",
   "metadata": {},
   "source": [
    "## Visualizing the Data"
   ]
  },
  {
   "cell_type": "code",
   "execution_count": 19,
   "id": "98259ef4",
   "metadata": {},
   "outputs": [],
   "source": [
    "housing = strat_train_set.copy()"
   ]
  },
  {
   "cell_type": "markdown",
   "id": "becf1ce7",
   "metadata": {},
   "source": [
    "### Histogram"
   ]
  },
  {
   "cell_type": "code",
   "execution_count": 20,
   "id": "53f56f1d",
   "metadata": {},
   "outputs": [
    {
     "data": {
      "text/plain": [
       "array([[<AxesSubplot:title={'center':'longitude'}>,\n",
       "        <AxesSubplot:title={'center':'latitude'}>,\n",
       "        <AxesSubplot:title={'center':'housing_median_age'}>],\n",
       "       [<AxesSubplot:title={'center':'total_rooms'}>,\n",
       "        <AxesSubplot:title={'center':'total_bedrooms'}>,\n",
       "        <AxesSubplot:title={'center':'population'}>],\n",
       "       [<AxesSubplot:title={'center':'households'}>,\n",
       "        <AxesSubplot:title={'center':'median_income'}>,\n",
       "        <AxesSubplot:title={'center':'median_house_value'}>]],\n",
       "      dtype=object)"
      ]
     },
     "execution_count": 20,
     "metadata": {},
     "output_type": "execute_result"
    },
    {
     "data": {
      "image/png": "[encoded data removed]",
      "text/plain": [
       "<Figure size 1080x720 with 9 Axes>"
      ]
     },
     "metadata": {
      "needs_background": "light"
     },
     "output_type": "display_data"
    }
   ],
   "source": [
    "housing.hist(bins=50, figsize = (15,10))"
   ]
  },
  {
   "cell_type": "markdown",
   "id": "d7c699f6",
   "metadata": {},
   "source": [
    "### Geographic Data"
   ]
  },
  {
   "cell_type": "code",
   "execution_count": 21,
   "id": "f7653b46",
   "metadata": {},
   "outputs": [
    {
     "data": {
      "text/plain": [
       "<AxesSubplot:xlabel='longitude', ylabel='latitude'>"
      ]
     },
     "execution_count": 21,
     "metadata": {},
     "output_type": "execute_result"
    },
    {
     "data": {
      "image/png": "[encoded data removed]",
      "text/plain": [
       "<Figure size 720x504 with 2 Axes>"
      ]
     },
     "metadata": {
      "needs_background": "light"
     },
     "output_type": "display_data"
    }
   ],
   "source": [
    "housing.plot(kind = 'scatter', x = 'longitude', y = 'latitude', alpha = 0.5, s = housing['population']/100, c = 'median_house_value', \n",
    "                figsize = (10,7), cmap = plt.get_cmap('jet'), colorbar = True, sharex = False)"
   ]
  },
  {
   "cell_type": "markdown",
   "id": "2d73df31",
   "metadata": {},
   "source": [
    "## Corelation Matrices"
   ]
  },
  {
   "cell_type": "code",
   "execution_count": 22,
   "id": "63e145ac",
   "metadata": {},
   "outputs": [
    {
     "data": {
      "text/html": [
       "<div>\n",
       "<style scoped>\n",
       "    .dataframe tbody tr th:only-of-type {\n",
       "        vertical-align: middle;\n",
       "    }\n",
       "\n",
       "    .dataframe tbody tr th {\n",
       "        vertical-align: top;\n",
       "    }\n",
       "\n",
       "    .dataframe thead th {\n",
       "        text-align: right;\n",
       "    }\n",
       "</style>\n",
       "<table border=\"1\" class=\"dataframe\">\n",
       "  <thead>\n",
       "    <tr style=\"text-align: right;\">\n",
       "      <th></th>\n",
       "      <th>longitude</th>\n",
       "      <th>latitude</th>\n",
       "      <th>housing_median_age</th>\n",
       "      <th>total_rooms</th>\n",
       "      <th>total_bedrooms</th>\n",
       "      <th>population</th>\n",
       "      <th>households</th>\n",
       "      <th>median_income</th>\n",
       "      <th>median_house_value</th>\n",
       "    </tr>\n",
       "  </thead>\n",
       "  <tbody>\n",
       "    <tr>\n",
       "      <th>longitude</th>\n",
       "      <td>1.000000</td>\n",
       "      <td>-0.924335</td>\n",
       "      <td>-0.112605</td>\n",
       "      <td>0.039342</td>\n",
       "      <td>0.063952</td>\n",
       "      <td>0.096427</td>\n",
       "      <td>0.049278</td>\n",
       "      <td>-0.011613</td>\n",
       "      <td>-0.041028</td>\n",
       "    </tr>\n",
       "    <tr>\n",
       "      <th>latitude</th>\n",
       "      <td>-0.924335</td>\n",
       "      <td>1.000000</td>\n",
       "      <td>0.013473</td>\n",
       "      <td>-0.032099</td>\n",
       "      <td>-0.062433</td>\n",
       "      <td>-0.106312</td>\n",
       "      <td>-0.066216</td>\n",
       "      <td>-0.084217</td>\n",
       "      <td>-0.148500</td>\n",
       "    </tr>\n",
       "    <tr>\n",
       "      <th>housing_median_age</th>\n",
       "      <td>-0.112605</td>\n",
       "      <td>0.013473</td>\n",
       "      <td>1.000000</td>\n",
       "      <td>-0.360735</td>\n",
       "      <td>-0.320840</td>\n",
       "      <td>-0.296504</td>\n",
       "      <td>-0.302412</td>\n",
       "      <td>-0.111401</td>\n",
       "      <td>0.109920</td>\n",
       "    </tr>\n",
       "    <tr>\n",
       "      <th>total_rooms</th>\n",
       "      <td>0.039342</td>\n",
       "      <td>-0.032099</td>\n",
       "      <td>-0.360735</td>\n",
       "      <td>1.000000</td>\n",
       "      <td>0.930559</td>\n",
       "      <td>0.856868</td>\n",
       "      <td>0.919547</td>\n",
       "      <td>0.198764</td>\n",
       "      <td>0.135010</td>\n",
       "    </tr>\n",
       "    <tr>\n",
       "      <th>total_bedrooms</th>\n",
       "      <td>0.063952</td>\n",
       "      <td>-0.062433</td>\n",
       "      <td>-0.320840</td>\n",
       "      <td>0.930559</td>\n",
       "      <td>1.000000</td>\n",
       "      <td>0.877686</td>\n",
       "      <td>0.980532</td>\n",
       "      <td>-0.005923</td>\n",
       "      <td>0.051243</td>\n",
       "    </tr>\n",
       "    <tr>\n",
       "      <th>population</th>\n",
       "      <td>0.096427</td>\n",
       "      <td>-0.106312</td>\n",
       "      <td>-0.296504</td>\n",
       "      <td>0.856868</td>\n",
       "      <td>0.877686</td>\n",
       "      <td>1.000000</td>\n",
       "      <td>0.905634</td>\n",
       "      <td>0.004544</td>\n",
       "      <td>-0.025091</td>\n",
       "    </tr>\n",
       "    <tr>\n",
       "      <th>households</th>\n",
       "      <td>0.049278</td>\n",
       "      <td>-0.066216</td>\n",
       "      <td>-0.302412</td>\n",
       "      <td>0.919547</td>\n",
       "      <td>0.980532</td>\n",
       "      <td>0.905634</td>\n",
       "      <td>1.000000</td>\n",
       "      <td>0.014554</td>\n",
       "      <td>0.068398</td>\n",
       "    </tr>\n",
       "    <tr>\n",
       "      <th>median_income</th>\n",
       "      <td>-0.011613</td>\n",
       "      <td>-0.084217</td>\n",
       "      <td>-0.111401</td>\n",
       "      <td>0.198764</td>\n",
       "      <td>-0.005923</td>\n",
       "      <td>0.004544</td>\n",
       "      <td>0.014554</td>\n",
       "      <td>1.000000</td>\n",
       "      <td>0.688738</td>\n",
       "    </tr>\n",
       "    <tr>\n",
       "      <th>median_house_value</th>\n",
       "      <td>-0.041028</td>\n",
       "      <td>-0.148500</td>\n",
       "      <td>0.109920</td>\n",
       "      <td>0.135010</td>\n",
       "      <td>0.051243</td>\n",
       "      <td>-0.025091</td>\n",
       "      <td>0.068398</td>\n",
       "      <td>0.688738</td>\n",
       "      <td>1.000000</td>\n",
       "    </tr>\n",
       "  </tbody>\n",
       "</table>\n",
       "</div>"
      ],
      "text/plain": [
       "                    longitude  latitude  housing_median_age  total_rooms  \\\n",
       "longitude            1.000000 -0.924335           -0.112605     0.039342   \n",
       "latitude            -0.924335  1.000000            0.013473    -0.032099   \n",
       "housing_median_age  -0.112605  0.013473            1.000000    -0.360735   \n",
       "total_rooms          0.039342 -0.032099           -0.360735     1.000000   \n",
       "total_bedrooms       0.063952 -0.062433           -0.320840     0.930559   \n",
       "population           0.096427 -0.106312           -0.296504     0.856868   \n",
       "households           0.049278 -0.066216           -0.302412     0.919547   \n",
       "median_income       -0.011613 -0.084217           -0.111401     0.198764   \n",
       "median_house_value  -0.041028 -0.148500            0.109920     0.135010   \n",
       "\n",
       "                    total_bedrooms  population  households  median_income  \\\n",
       "longitude                 0.063952    0.096427    0.049278      -0.011613   \n",
       "latitude                 -0.062433   -0.106312   -0.066216      -0.084217   \n",
       "housing_median_age       -0.320840   -0.296504   -0.302412      -0.111401   \n",
       "total_rooms               0.930559    0.856868    0.919547       0.198764   \n",
       "total_bedrooms            1.000000    0.877686    0.980532      -0.005923   \n",
       "population                0.877686    1.000000    0.905634       0.004544   \n",
       "households                0.980532    0.905634    1.000000       0.014554   \n",
       "median_income            -0.005923    0.004544    0.014554       1.000000   \n",
       "median_house_value        0.051243   -0.025091    0.068398       0.688738   \n",
       "\n",
       "                    median_house_value  \n",
       "longitude                    -0.041028  \n",
       "latitude                     -0.148500  \n",
       "housing_median_age            0.109920  \n",
       "total_rooms                   0.135010  \n",
       "total_bedrooms                0.051243  \n",
       "population                   -0.025091  \n",
       "households                    0.068398  \n",
       "median_income                 0.688738  \n",
       "median_house_value            1.000000  "
      ]
     },
     "execution_count": 22,
     "metadata": {},
     "output_type": "execute_result"
    }
   ],
   "source": [
    "housing.corr()"
   ]
  },
  {
   "cell_type": "code",
   "execution_count": 26,
   "id": "54cc58a0",
   "metadata": {},
   "outputs": [
    {
     "data": {
      "text/plain": [
       "<AxesSubplot:>"
      ]
     },
     "execution_count": 26,
     "metadata": {},
     "output_type": "execute_result"
    },
    {
     "data": {
      "image/png": "[encoded data removed]",
      "text/plain": [
       "<Figure size 720x576 with 2 Axes>"
      ]
     },
     "metadata": {
      "needs_background": "light"
     },
     "output_type": "display_data"
    }
   ],
   "source": [
    "import seaborn as sns\n",
    "\n",
    "corr = housing.corr()\n",
    "mask = np.triu(np.ones_like(corr, dtype=bool))  #returns an upper triangular matrix (np array) with ones\n",
    "\n",
    "fig, ax = plt.subplots(figsize=(10,8))\n",
    "sns.heatmap(corr, mask=mask, cmap='jet', vmax=0.3, center=0, square=True, linewidths=0.5, cbar_kws={\"shrink\":.5})"
   ]
  },
  {
   "cell_type": "markdown",
   "id": "14ee0a30",
   "metadata": {},
   "source": [
    "## Preparing Data for ML"
   ]
  },
  {
   "cell_type": "markdown",
   "id": "480a58e9",
   "metadata": {},
   "source": [
    "Data preparation is often the most time-consuming step of the modeling process. It is also one of the most important with model accuracy often contingent on the quality of data inserted. To this end, we will be applying the following transformations on this data: \n",
    "\n",
    "- **Imputation:** Inserting values where they might be missing\n",
    "- **Encoding:** Transforming categorical variables into some numerical variables\n",
    "- **Feature Engineering:** Creating new features (columns) out of our raw data using domain knowledge\n",
    "- **Scaling:** Applying a scaler that transforms all of our data on the same numerical scale "
   ]
  },
  {
   "cell_type": "code",
   "execution_count": 34,
   "id": "759b9edf",
   "metadata": {},
   "outputs": [],
   "source": [
    "housing_features = strat_train_set.drop('median_house_value', axis=1)\n",
    "housing_labels = strat_train_set[\"median_house_value\"].copy()"
   ]
  },
  {
   "cell_type": "markdown",
   "id": "6501e385",
   "metadata": {},
   "source": [
    "### Imputation"
   ]
  },
  {
   "cell_type": "code",
   "execution_count": 35,
   "id": "6acb3a68",
   "metadata": {},
   "outputs": [],
   "source": [
    "from sklearn.impute import SimpleImputer\n",
    "imputer = SimpleImputer(strategy=\"mean\")"
   ]
  },
  {
   "cell_type": "code",
   "execution_count": 36,
   "id": "22d9740f",
   "metadata": {},
   "outputs": [
    {
     "data": {
      "text/plain": [
       "SimpleImputer(strategy='median')"
      ]
     },
     "execution_count": 36,
     "metadata": {},
     "output_type": "execute_result"
    }
   ],
   "source": [
    "housing_num = housing_features.select_dtypes(include=np.number) #selects only the columns that have numerical entries (int, float, etc.)\n",
    "imputer.fit(housing_num)                                   "
   ]
  },
  {
   "cell_type": "code",
   "execution_count": 37,
   "id": "a8edf98c",
   "metadata": {},
   "outputs": [
    {
     "data": {
      "text/html": [
       "<div>\n",
       "<style scoped>\n",
       "    .dataframe tbody tr th:only-of-type {\n",
       "        vertical-align: middle;\n",
       "    }\n",
       "\n",
       "    .dataframe tbody tr th {\n",
       "        vertical-align: top;\n",
       "    }\n",
       "\n",
       "    .dataframe thead th {\n",
       "        text-align: right;\n",
       "    }\n",
       "</style>\n",
       "<table border=\"1\" class=\"dataframe\">\n",
       "  <thead>\n",
       "    <tr style=\"text-align: right;\">\n",
       "      <th></th>\n",
       "      <th>longitude</th>\n",
       "      <th>latitude</th>\n",
       "      <th>housing_median_age</th>\n",
       "      <th>total_rooms</th>\n",
       "      <th>total_bedrooms</th>\n",
       "      <th>population</th>\n",
       "      <th>households</th>\n",
       "      <th>median_income</th>\n",
       "    </tr>\n",
       "  </thead>\n",
       "  <tbody>\n",
       "    <tr>\n",
       "      <th>18318</th>\n",
       "      <td>-122.11</td>\n",
       "      <td>37.44</td>\n",
       "      <td>35.0</td>\n",
       "      <td>2016.0</td>\n",
       "      <td>349.0</td>\n",
       "      <td>1023.0</td>\n",
       "      <td>376.0</td>\n",
       "      <td>5.6413</td>\n",
       "    </tr>\n",
       "    <tr>\n",
       "      <th>15219</th>\n",
       "      <td>-117.12</td>\n",
       "      <td>32.95</td>\n",
       "      <td>4.0</td>\n",
       "      <td>9018.0</td>\n",
       "      <td>1572.0</td>\n",
       "      <td>4438.0</td>\n",
       "      <td>1498.0</td>\n",
       "      <td>4.9880</td>\n",
       "    </tr>\n",
       "    <tr>\n",
       "      <th>19890</th>\n",
       "      <td>-119.15</td>\n",
       "      <td>36.29</td>\n",
       "      <td>18.0</td>\n",
       "      <td>1435.0</td>\n",
       "      <td>438.0</td>\n",
       "      <td>657.0</td>\n",
       "      <td>254.0</td>\n",
       "      <td>2.4281</td>\n",
       "    </tr>\n",
       "    <tr>\n",
       "      <th>19417</th>\n",
       "      <td>-121.14</td>\n",
       "      <td>37.70</td>\n",
       "      <td>29.0</td>\n",
       "      <td>1343.0</td>\n",
       "      <td>223.0</td>\n",
       "      <td>751.0</td>\n",
       "      <td>225.0</td>\n",
       "      <td>3.2391</td>\n",
       "    </tr>\n",
       "    <tr>\n",
       "      <th>4366</th>\n",
       "      <td>-118.27</td>\n",
       "      <td>34.10</td>\n",
       "      <td>51.0</td>\n",
       "      <td>3149.0</td>\n",
       "      <td>519.0</td>\n",
       "      <td>1082.0</td>\n",
       "      <td>510.0</td>\n",
       "      <td>6.4459</td>\n",
       "    </tr>\n",
       "  </tbody>\n",
       "</table>\n",
       "</div>"
      ],
      "text/plain": [
       "       longitude  latitude  housing_median_age  total_rooms  total_bedrooms  \\\n",
       "18318    -122.11     37.44                35.0       2016.0           349.0   \n",
       "15219    -117.12     32.95                 4.0       9018.0          1572.0   \n",
       "19890    -119.15     36.29                18.0       1435.0           438.0   \n",
       "19417    -121.14     37.70                29.0       1343.0           223.0   \n",
       "4366     -118.27     34.10                51.0       3149.0           519.0   \n",
       "\n",
       "       population  households  median_income  \n",
       "18318      1023.0       376.0         5.6413  \n",
       "15219      4438.0      1498.0         4.9880  \n",
       "19890       657.0       254.0         2.4281  \n",
       "19417       751.0       225.0         3.2391  \n",
       "4366       1082.0       510.0         6.4459  "
      ]
     },
     "execution_count": 37,
     "metadata": {},
     "output_type": "execute_result"
    }
   ],
   "source": [
    "X = imputer.transform(housing_num)       #returns an array, so need to convert to df again\n",
    "\n",
    "housing_tr = pd.DataFrame(X, columns=housing_num.columns, index=housing_num.index)\n",
    "housing_tr.head()"
   ]
  },
  {
   "cell_type": "markdown",
   "id": "69d02462",
   "metadata": {},
   "source": [
    "### Encoding"
   ]
  },
  {
   "cell_type": "markdown",
   "id": "67f75612",
   "metadata": {},
   "source": [
    "There are multiple ways we can encode a categorical variable. For instance we can assign a numerical value to each category. But this might make the ML algorithm choose one outcome more than others. So, we replace the categorical variable by an array of length the number of entries in the categorical variable column. The array has all zeros except one at one place corresponding to the value of the categorical variable. "
   ]
  },
  {
   "cell_type": "code",
   "execution_count": 45,
   "id": "0ebf11ca",
   "metadata": {},
   "outputs": [
    {
     "data": {
      "text/plain": [
       "array([[0., 0., 0., 1., 0.],\n",
       "       [1., 0., 0., 0., 0.],\n",
       "       [0., 1., 0., 0., 0.],\n",
       "       ...,\n",
       "       [0., 0., 0., 1., 0.],\n",
       "       [0., 1., 0., 0., 0.],\n",
       "       [1., 0., 0., 0., 0.]])"
      ]
     },
     "execution_count": 45,
     "metadata": {},
     "output_type": "execute_result"
    }
   ],
   "source": [
    "housing_cat = np.array(housing_features['ocean_proximity'])\n",
    "housing_cat = housing_cat.reshape(-1,1)                          #we needed to reshape the array to a 2D array for the encoder to work.\n",
    "\n",
    "from sklearn.preprocessing import OneHotEncoder\n",
    "\n",
    "cat_encoder = OneHotEncoder(sparse=False)\n",
    "housing_cat_1hot = cat_encoder.fit_transform(housing_cat)\n",
    "\n",
    "housing_cat_1hot"
   ]
  },
  {
   "cell_type": "markdown",
   "id": "1052d883",
   "metadata": {},
   "source": [
    "### Feature Engineering"
   ]
  },
  {
   "cell_type": "code",
   "execution_count": 49,
   "id": "a5b52835",
   "metadata": {},
   "outputs": [],
   "source": [
    "def feature_engineering(data):\n",
    "    data[\"bedrooms_per_household\"] = data[\"total_bedrooms\"]/data[\"households\"]\n",
    "    data[\"population_per_household\"] = data[\"population\"]/data[\"households\"]\n",
    "    data[\"rooms_per_household\"] = data[\"total_rooms\"]/data[\"households\"]\n",
    "\n",
    "    return data"
   ]
  },
  {
   "cell_type": "code",
   "execution_count": 51,
   "id": "4d7325c9",
   "metadata": {},
   "outputs": [
    {
     "data": {
      "text/html": [
       "<div>\n",
       "<style scoped>\n",
       "    .dataframe tbody tr th:only-of-type {\n",
       "        vertical-align: middle;\n",
       "    }\n",
       "\n",
       "    .dataframe tbody tr th {\n",
       "        vertical-align: top;\n",
       "    }\n",
       "\n",
       "    .dataframe thead th {\n",
       "        text-align: right;\n",
       "    }\n",
       "</style>\n",
       "<table border=\"1\" class=\"dataframe\">\n",
       "  <thead>\n",
       "    <tr style=\"text-align: right;\">\n",
       "      <th></th>\n",
       "      <th>longitude</th>\n",
       "      <th>latitude</th>\n",
       "      <th>housing_median_age</th>\n",
       "      <th>total_rooms</th>\n",
       "      <th>total_bedrooms</th>\n",
       "      <th>population</th>\n",
       "      <th>households</th>\n",
       "      <th>median_income</th>\n",
       "      <th>bedrooms_per_household</th>\n",
       "      <th>population_per_household</th>\n",
       "      <th>rooms_per_household</th>\n",
       "    </tr>\n",
       "  </thead>\n",
       "  <tbody>\n",
       "    <tr>\n",
       "      <th>18318</th>\n",
       "      <td>-122.11</td>\n",
       "      <td>37.44</td>\n",
       "      <td>35.0</td>\n",
       "      <td>2016.0</td>\n",
       "      <td>349.0</td>\n",
       "      <td>1023.0</td>\n",
       "      <td>376.0</td>\n",
       "      <td>5.6413</td>\n",
       "      <td>0.928191</td>\n",
       "      <td>2.720745</td>\n",
       "      <td>5.361702</td>\n",
       "    </tr>\n",
       "    <tr>\n",
       "      <th>15219</th>\n",
       "      <td>-117.12</td>\n",
       "      <td>32.95</td>\n",
       "      <td>4.0</td>\n",
       "      <td>9018.0</td>\n",
       "      <td>1572.0</td>\n",
       "      <td>4438.0</td>\n",
       "      <td>1498.0</td>\n",
       "      <td>4.9880</td>\n",
       "      <td>1.049399</td>\n",
       "      <td>2.962617</td>\n",
       "      <td>6.020027</td>\n",
       "    </tr>\n",
       "    <tr>\n",
       "      <th>19890</th>\n",
       "      <td>-119.15</td>\n",
       "      <td>36.29</td>\n",
       "      <td>18.0</td>\n",
       "      <td>1435.0</td>\n",
       "      <td>438.0</td>\n",
       "      <td>657.0</td>\n",
       "      <td>254.0</td>\n",
       "      <td>2.4281</td>\n",
       "      <td>1.724409</td>\n",
       "      <td>2.586614</td>\n",
       "      <td>5.649606</td>\n",
       "    </tr>\n",
       "    <tr>\n",
       "      <th>19417</th>\n",
       "      <td>-121.14</td>\n",
       "      <td>37.70</td>\n",
       "      <td>29.0</td>\n",
       "      <td>1343.0</td>\n",
       "      <td>223.0</td>\n",
       "      <td>751.0</td>\n",
       "      <td>225.0</td>\n",
       "      <td>3.2391</td>\n",
       "      <td>0.991111</td>\n",
       "      <td>3.337778</td>\n",
       "      <td>5.968889</td>\n",
       "    </tr>\n",
       "    <tr>\n",
       "      <th>4366</th>\n",
       "      <td>-118.27</td>\n",
       "      <td>34.10</td>\n",
       "      <td>51.0</td>\n",
       "      <td>3149.0</td>\n",
       "      <td>519.0</td>\n",
       "      <td>1082.0</td>\n",
       "      <td>510.0</td>\n",
       "      <td>6.4459</td>\n",
       "      <td>1.017647</td>\n",
       "      <td>2.121569</td>\n",
       "      <td>6.174510</td>\n",
       "    </tr>\n",
       "  </tbody>\n",
       "</table>\n",
       "</div>"
      ],
      "text/plain": [
       "       longitude  latitude  housing_median_age  total_rooms  total_bedrooms  \\\n",
       "18318    -122.11     37.44                35.0       2016.0           349.0   \n",
       "15219    -117.12     32.95                 4.0       9018.0          1572.0   \n",
       "19890    -119.15     36.29                18.0       1435.0           438.0   \n",
       "19417    -121.14     37.70                29.0       1343.0           223.0   \n",
       "4366     -118.27     34.10                51.0       3149.0           519.0   \n",
       "\n",
       "       population  households  median_income  bedrooms_per_household  \\\n",
       "18318      1023.0       376.0         5.6413                0.928191   \n",
       "15219      4438.0      1498.0         4.9880                1.049399   \n",
       "19890       657.0       254.0         2.4281                1.724409   \n",
       "19417       751.0       225.0         3.2391                0.991111   \n",
       "4366       1082.0       510.0         6.4459                1.017647   \n",
       "\n",
       "       population_per_household  rooms_per_household  \n",
       "18318                  2.720745             5.361702  \n",
       "15219                  2.962617             6.020027  \n",
       "19890                  2.586614             5.649606  \n",
       "19417                  3.337778             5.968889  \n",
       "4366                   2.121569             6.174510  "
      ]
     },
     "execution_count": 51,
     "metadata": {},
     "output_type": "execute_result"
    }
   ],
   "source": [
    "housing_feature_engineered = feature_engineering(housing_tr)\n",
    "housing_feature_engineered.head()"
   ]
  },
  {
   "cell_type": "markdown",
   "id": "0f88e050",
   "metadata": {},
   "source": [
    "### Scaling"
   ]
  },
  {
   "cell_type": "markdown",
   "id": "22aeecfc",
   "metadata": {},
   "source": [
    "Many ML algorithms don't work well with unscaled data. The magnitude of values in a particular can be misleading. Because of this we will scale our values using the StandardScaler which will scale the values to their z-score within their column like so:\n",
    "\n",
    "$$z = \\frac{x-u}{\\sigma}$$\n",
    "\n",
    "where $x$ is the value, $u$ is the mean and $\\sigma$ is the standard deviation."
   ]
  },
  {
   "cell_type": "code",
   "execution_count": 54,
   "id": "e0a7935f",
   "metadata": {},
   "outputs": [
    {
     "data": {
      "text/plain": [
       "array([[-1.27068036,  0.84987039,  0.50736697, ..., -0.31570524,\n",
       "        -0.03231712, -0.02942666],\n",
       "       [ 1.2195692 , -1.25389062, -1.96881212, ..., -0.09847599,\n",
       "        -0.01211278,  0.22233972],\n",
       "       [ 0.20650175,  0.31104519, -0.85053769, ...,  1.11128184,\n",
       "        -0.04352146,  0.08067798],\n",
       "       ...,\n",
       "       [-1.34553756,  1.06540048,  1.86527163, ..., -0.24301601,\n",
       "        -0.0551073 ,  0.47893279],\n",
       "       [ 0.9700452 , -0.75254891, -1.5694284 , ..., -0.19309515,\n",
       "         0.06376462,  0.6893158 ],\n",
       "       [ 0.62570207, -0.71506542,  0.42749022, ..., -0.09338682,\n",
       "         0.04088048, -0.94118627]])"
      ]
     },
     "execution_count": 54,
     "metadata": {},
     "output_type": "execute_result"
    }
   ],
   "source": [
    "from sklearn.preprocessing import StandardScaler\n",
    "scaler = StandardScaler()\n",
    "\n",
    "housing_scaled = scaler.fit_transform(housing_feature_engineered)\n",
    "housing_scaled"
   ]
  },
  {
   "cell_type": "markdown",
   "id": "6ff85e2e",
   "metadata": {},
   "source": [
    "### Pipeline"
   ]
  },
  {
   "cell_type": "markdown",
   "id": "dbd7365b",
   "metadata": {},
   "source": [
    "We combine all four process into one single `data_transformation` function."
   ]
  },
  {
   "cell_type": "code",
   "execution_count": 64,
   "id": "19681009",
   "metadata": {},
   "outputs": [],
   "source": [
    "def data_transformation(data):\n",
    "\n",
    "    ## separate labels if they exist ##\n",
    "    if \"median_house_value\" in data.columns:\n",
    "        labels = data[\"median_house_value\"]\n",
    "        data = data.drop(\"median_house_value\", axis=1)\n",
    "\n",
    "    else:\n",
    "        labels = None\n",
    "\n",
    "    ## Feature Engineering ##\n",
    "    feature_engineered_data = feature_engineering(data)\n",
    "    features = list(feature_engineered_data.columns)\n",
    "\n",
    "    ## Imputing Data ##\n",
    "    from sklearn.impute import SimpleImputer\n",
    "    imputer = SimpleImputer(strategy=\"median\")\n",
    "    housing_num = feature_engineered_data.select_dtypes(include=[np.number])\n",
    "    imputed = imputer.fit_transform(housing_num)\n",
    "\n",
    "    ## Encoding Categorical Data ##\n",
    "\n",
    "    housing_cat = feature_engineered_data.select_dtypes(exclude=[np.number])\n",
    "    ##housing_cat = housing_cat.reshape(-1,1)\n",
    "    from sklearn.preprocessing import OneHotEncoder\n",
    "    cat_encoder = OneHotEncoder(sparse=False)\n",
    "    housing_cat_1hot = cat_encoder.fit_transform(housing_cat)\n",
    "    features = features + list(cat_encoder.categories_[0])\n",
    "    features.remove(\"ocean_proximity\")\n",
    "\n",
    "    ## Scaling Data ##\n",
    "\n",
    "    from sklearn.preprocessing import StandardScaler\n",
    "    scaler = StandardScaler()\n",
    "    housing_scaled = scaler.fit_transform(imputed)\n",
    "\n",
    "    ## Concatening all Data ##\n",
    "    output = np.hstack([housing_scaled, housing_cat_1hot])\n",
    "\n",
    "    return output, labels, features  "
   ]
  },
  {
   "cell_type": "markdown",
   "id": "255b4bb2",
   "metadata": {},
   "source": [
    "## Select and Train a Model"
   ]
  },
  {
   "cell_type": "markdown",
   "id": "48945ee2",
   "metadata": {},
   "source": [
    "We need to create a clean training dataset to \"train\" our ML regressors, and a \"test\" set to test the accuracy of said regressors."
   ]
  },
  {
   "cell_type": "code",
   "execution_count": 84,
   "id": "2da29651",
   "metadata": {},
   "outputs": [],
   "source": [
    "train_data, train_labels, train_features = data_transformation(strat_train_set)"
   ]
  },
  {
   "cell_type": "code",
   "execution_count": 85,
   "id": "98d9791e",
   "metadata": {},
   "outputs": [],
   "source": [
    "test_data, test_labels, test_features = data_transformation(strat_test_set)"
   ]
  },
  {
   "cell_type": "code",
   "execution_count": 86,
   "id": "e1c33727",
   "metadata": {},
   "outputs": [
    {
     "name": "stdout",
     "output_type": "stream",
     "text": [
      "['longitude', 'latitude', 'housing_median_age', 'total_rooms', 'total_bedrooms', 'population', 'households', 'median_income', 'bedrooms_per_household', 'population_per_household', 'rooms_per_household', '<1H OCEAN', 'INLAND', 'ISLAND', 'NEAR BAY', 'NEAR OCEAN']\n",
      "['longitude', 'latitude', 'housing_median_age', 'total_rooms', 'total_bedrooms', 'population', 'households', 'median_income', 'bedrooms_per_household', 'population_per_household', 'rooms_per_household', '<1H OCEAN', 'INLAND', 'NEAR BAY', 'NEAR OCEAN']\n"
     ]
    }
   ],
   "source": [
    "print(train_features)\n",
    "print(test_features)"
   ]
  },
  {
   "cell_type": "code",
   "execution_count": 87,
   "id": "e3a60860",
   "metadata": {},
   "outputs": [],
   "source": [
    "train_data = np.delete(train_data, 13, 1)\n",
    "train_features.remove(\"ISLAND\")"
   ]
  },
  {
   "cell_type": "markdown",
   "id": "3f86a1e5",
   "metadata": {},
   "source": [
    "### Linear Regression"
   ]
  },
  {
   "cell_type": "code",
   "execution_count": 90,
   "id": "25ff0d61",
   "metadata": {},
   "outputs": [
    {
     "data": {
      "text/plain": [
       "LinearRegression()"
      ]
     },
     "execution_count": 90,
     "metadata": {},
     "output_type": "execute_result"
    }
   ],
   "source": [
    "from sklearn.linear_model import LinearRegression\n",
    "\n",
    "lin_reg = LinearRegression()\n",
    "lin_reg.fit(train_data, train_labels)"
   ]
  },
  {
   "cell_type": "code",
   "execution_count": 93,
   "id": "ebe0449e",
   "metadata": {},
   "outputs": [
    {
     "data": {
      "text/html": [
       "<div>\n",
       "<style scoped>\n",
       "    .dataframe tbody tr th:only-of-type {\n",
       "        vertical-align: middle;\n",
       "    }\n",
       "\n",
       "    .dataframe tbody tr th {\n",
       "        vertical-align: top;\n",
       "    }\n",
       "\n",
       "    .dataframe thead th {\n",
       "        text-align: right;\n",
       "    }\n",
       "</style>\n",
       "<table border=\"1\" class=\"dataframe\">\n",
       "  <thead>\n",
       "    <tr style=\"text-align: right;\">\n",
       "      <th></th>\n",
       "      <th>Original Values</th>\n",
       "      <th>Predicted Values</th>\n",
       "      <th>Differences</th>\n",
       "    </tr>\n",
       "  </thead>\n",
       "  <tbody>\n",
       "    <tr>\n",
       "      <th>330</th>\n",
       "      <td>82400.0</td>\n",
       "      <td>175137.466697</td>\n",
       "      <td>-92737.466697</td>\n",
       "    </tr>\n",
       "    <tr>\n",
       "      <th>10685</th>\n",
       "      <td>161800.0</td>\n",
       "      <td>283132.388203</td>\n",
       "      <td>-121332.388203</td>\n",
       "    </tr>\n",
       "    <tr>\n",
       "      <th>369</th>\n",
       "      <td>126300.0</td>\n",
       "      <td>227449.614006</td>\n",
       "      <td>-101149.614006</td>\n",
       "    </tr>\n",
       "    <tr>\n",
       "      <th>5837</th>\n",
       "      <td>192400.0</td>\n",
       "      <td>195081.622580</td>\n",
       "      <td>-2681.622580</td>\n",
       "    </tr>\n",
       "    <tr>\n",
       "      <th>8555</th>\n",
       "      <td>345800.0</td>\n",
       "      <td>306083.149353</td>\n",
       "      <td>39716.850647</td>\n",
       "    </tr>\n",
       "  </tbody>\n",
       "</table>\n",
       "</div>"
      ],
      "text/plain": [
       "       Original Values  Predicted Values    Differences\n",
       "330            82400.0     175137.466697  -92737.466697\n",
       "10685         161800.0     283132.388203 -121332.388203\n",
       "369           126300.0     227449.614006 -101149.614006\n",
       "5837          192400.0     195081.622580   -2681.622580\n",
       "8555          345800.0     306083.149353   39716.850647"
      ]
     },
     "execution_count": 93,
     "metadata": {},
     "output_type": "execute_result"
    }
   ],
   "source": [
    "#Compare against some Test Data\n",
    "\n",
    "original_values = test_labels\n",
    "\n",
    "predicted_values = lin_reg.predict(test_data)\n",
    "\n",
    "df_compare = pd.DataFrame(data={\"Original Values\":original_values, \"Predicted Values\":predicted_values})\n",
    "\n",
    "df_compare[\"Differences\"] = df_compare[\"Original Values\"] - df_compare[\"Predicted Values\"]\n",
    "\n",
    "df_compare.head()"
   ]
  },
  {
   "cell_type": "code",
   "execution_count": 94,
   "id": "cf625dcf",
   "metadata": {},
   "outputs": [
    {
     "data": {
      "text/plain": [
       "67412.20857676704"
      ]
     },
     "execution_count": 94,
     "metadata": {},
     "output_type": "execute_result"
    }
   ],
   "source": [
    "from sklearn.metrics import mean_squared_error\n",
    "\n",
    "lin_mse = mean_squared_error(original_values, predicted_values)\n",
    "lin_rmse = np.sqrt(lin_mse)\n",
    "lin_rmse"
   ]
  },
  {
   "cell_type": "code",
   "execution_count": 95,
   "id": "a9c26b10",
   "metadata": {},
   "outputs": [
    {
     "data": {
      "text/plain": [
       "49114.20343405829"
      ]
     },
     "execution_count": 95,
     "metadata": {},
     "output_type": "execute_result"
    }
   ],
   "source": [
    "from sklearn.metrics import mean_absolute_error\n",
    "\n",
    "lin_mae = mean_absolute_error(original_values, predicted_values)\n",
    "lin_mae"
   ]
  },
  {
   "cell_type": "markdown",
   "id": "ec32ba84",
   "metadata": {},
   "source": [
    "### Decision Tree Regressor"
   ]
  },
  {
   "cell_type": "code",
   "execution_count": 96,
   "id": "d0842641",
   "metadata": {},
   "outputs": [
    {
     "data": {
      "text/plain": [
       "DecisionTreeRegressor(random_state=33)"
      ]
     },
     "execution_count": 96,
     "metadata": {},
     "output_type": "execute_result"
    }
   ],
   "source": [
    "from sklearn.tree import DecisionTreeRegressor\n",
    "\n",
    "tree_reg = DecisionTreeRegressor(random_state=33)\n",
    "tree_reg.fit(train_data, train_labels)"
   ]
  },
  {
   "cell_type": "code",
   "execution_count": 108,
   "id": "e2aada77",
   "metadata": {},
   "outputs": [
    {
     "data": {
      "text/plain": [
       "0.0"
      ]
     },
     "execution_count": 108,
     "metadata": {},
     "output_type": "execute_result"
    }
   ],
   "source": [
    "train_predictions = tree_reg.predict(train_data)\n",
    "tree_mse = mean_squared_error(train_labels, train_predictions)\n",
    "tree_rmse = np.sqrt(tree_mse)\n",
    "tree_rmse"
   ]
  },
  {
   "cell_type": "markdown",
   "id": "6342beca",
   "metadata": {},
   "source": [
    "### Cross Validation"
   ]
  },
  {
   "cell_type": "markdown",
   "id": "bbe31892",
   "metadata": {},
   "source": [
    "Instead of splitting our data into a train and test set and training once, we can do something called a *K-Fold Cross-Validation* which will split our training dataset into 10 folds training on 9 of the sections and testing on the last one. It does this for all of the folds which can let us more rigorously evaluate the model"
   ]
  },
  {
   "cell_type": "code",
   "execution_count": 100,
   "id": "7707a659",
   "metadata": {},
   "outputs": [],
   "source": [
    "from sklearn.model_selection import cross_val_score\n",
    "\n",
    "scores = cross_val_score(tree_reg, train_data, train_labels, scoring=\"neg_mean_squared_error\", cv=10)\n",
    "tree_rmse_scores = np.sqrt(-scores)\n"
   ]
  },
  {
   "cell_type": "code",
   "execution_count": 102,
   "id": "8b7f5d2f",
   "metadata": {},
   "outputs": [
    {
     "name": "stdout",
     "output_type": "stream",
     "text": [
      "Scores:\n",
      "[69208.83141554 69659.92548555 69238.76482646 72076.81172304\n",
      " 72853.97144524 70163.6229885  75452.23605709 68721.62654473\n",
      " 72704.86037675 70656.39278134]\n"
     ]
    }
   ],
   "source": [
    "print(\"Scores:\")\n",
    "print(tree_rmse_scores)"
   ]
  },
  {
   "cell_type": "markdown",
   "id": "1c423ed9",
   "metadata": {},
   "source": [
    "### Random Forest Regressor"
   ]
  },
  {
   "cell_type": "code",
   "execution_count": 103,
   "id": "ae084625",
   "metadata": {},
   "outputs": [
    {
     "data": {
      "text/plain": [
       "RandomForestRegressor(random_state=33)"
      ]
     },
     "execution_count": 103,
     "metadata": {},
     "output_type": "execute_result"
    }
   ],
   "source": [
    "from sklearn.ensemble import RandomForestRegressor\n",
    "\n",
    "forest_reg = RandomForestRegressor(n_estimators=100, random_state=33)\n",
    "forest_reg.fit(train_data, train_labels)"
   ]
  },
  {
   "cell_type": "code",
   "execution_count": 109,
   "id": "4536aa40",
   "metadata": {},
   "outputs": [
    {
     "data": {
      "text/plain": [
       "18862.943207257442"
      ]
     },
     "execution_count": 109,
     "metadata": {},
     "output_type": "execute_result"
    }
   ],
   "source": [
    "forest_predictions = forest_reg.predict(train_data)\n",
    "forest_mse = mean_squared_error(train_labels, forest_predictions)\n",
    "\n",
    "forest_rmse = np.sqrt(forest_mse)\n",
    "forest_rmse"
   ]
  },
  {
   "cell_type": "code",
   "execution_count": 110,
   "id": "831ee210",
   "metadata": {},
   "outputs": [],
   "source": [
    "forest_scores = cross_val_score(forest_reg, train_data, train_labels, scoring=\"neg_mean_squared_error\", cv=10)\n",
    "forest_rmse_scores = np.sqrt(-forest_scores)"
   ]
  },
  {
   "cell_type": "code",
   "execution_count": 111,
   "id": "a9022c03",
   "metadata": {},
   "outputs": [
    {
     "data": {
      "text/plain": [
       "array([49583.30509175, 50368.826332  , 51049.74511449, 52358.36647381,\n",
       "       52308.72508516, 47552.01430534, 50923.93123001, 50659.01839088,\n",
       "       51379.48165124, 50166.94876017])"
      ]
     },
     "execution_count": 111,
     "metadata": {},
     "output_type": "execute_result"
    }
   ],
   "source": [
    "forest_rmse_scores"
   ]
  },
  {
   "cell_type": "markdown",
   "id": "b5842abc",
   "metadata": {},
   "source": [
    "## Fine-Tuning the Model"
   ]
  },
  {
   "cell_type": "markdown",
   "id": "a15f2fa7",
   "metadata": {},
   "source": [
    "After picking a model or set of models that are promising, we'll need to fine-tune the hyperparameters (parameters that aren't affected by training) in order to find the best ones to use for the model. We can use `Grid Search` for this. "
   ]
  },
  {
   "cell_type": "markdown",
   "id": "2cb501da",
   "metadata": {},
   "source": [
    "### Grid Search"
   ]
  },
  {
   "cell_type": "code",
   "execution_count": 112,
   "id": "408276e8",
   "metadata": {},
   "outputs": [
    {
     "data": {
      "text/plain": [
       "GridSearchCV(cv=5, estimator=RandomForestRegressor(random_state=33),\n",
       "             param_grid=[{'max_features': [2, 4, 6, 8],\n",
       "                          'n_estimators': [3, 10, 30]},\n",
       "                         {'bootstrap': [False], 'max_features': [2, 4, 6],\n",
       "                          'n_estimators': [3, 10]}],\n",
       "             return_train_score=True, scoring='neg_mean_squared_error')"
      ]
     },
     "execution_count": 112,
     "metadata": {},
     "output_type": "execute_result"
    }
   ],
   "source": [
    "from sklearn.model_selection import GridSearchCV\n",
    "\n",
    "param_grid = [\n",
    "    # try 12 (3*4) combinations of hyperparameters\n",
    "    {'n_estimators': [3,10,30], 'max_features': [2,4,6,8]},\n",
    "    # then try 6 (2*3) combination with bootstrap set as False\n",
    "    {'bootstrap':[False], 'n_estimators': [3,10], 'max_features': [2,4,6]}\n",
    "]\n",
    "\n",
    "forest_reg = RandomForestRegressor(random_state=33)\n",
    "#train across 5 folds, thats a total of (12+6)*5=90 rounds of training\n",
    "\n",
    "grid_search = GridSearchCV(forest_reg, param_grid, cv=5, scoring=\"neg_mean_squared_error\", return_train_score=True)\n",
    "grid_search.fit(train_data, train_labels)"
   ]
  },
  {
   "cell_type": "code",
   "execution_count": 113,
   "id": "ab214911",
   "metadata": {},
   "outputs": [
    {
     "data": {
      "text/plain": [
       "{'max_features': 6, 'n_estimators': 30}"
      ]
     },
     "execution_count": 113,
     "metadata": {},
     "output_type": "execute_result"
    }
   ],
   "source": [
    "grid_search.best_params_"
   ]
  },
  {
   "cell_type": "code",
   "execution_count": 114,
   "id": "a012f39e",
   "metadata": {},
   "outputs": [
    {
     "data": {
      "text/plain": [
       "RandomForestRegressor(max_features=6, n_estimators=30, random_state=33)"
      ]
     },
     "execution_count": 114,
     "metadata": {},
     "output_type": "execute_result"
    }
   ],
   "source": [
    "grid_search.best_estimator_"
   ]
  },
  {
   "cell_type": "code",
   "execution_count": 115,
   "id": "7b0daefb",
   "metadata": {},
   "outputs": [
    {
     "name": "stdout",
     "output_type": "stream",
     "text": [
      "63606.49820036065 {'max_features': 2, 'n_estimators': 3}\n",
      "55370.284331512616 {'max_features': 2, 'n_estimators': 10}\n",
      "52916.82589552388 {'max_features': 2, 'n_estimators': 30}\n",
      "59751.61777697023 {'max_features': 4, 'n_estimators': 3}\n",
      "52434.23534871921 {'max_features': 4, 'n_estimators': 10}\n",
      "50323.154449223846 {'max_features': 4, 'n_estimators': 30}\n",
      "58941.59068990037 {'max_features': 6, 'n_estimators': 3}\n",
      "51945.20706478459 {'max_features': 6, 'n_estimators': 10}\n",
      "50008.29864849059 {'max_features': 6, 'n_estimators': 30}\n",
      "59077.18668157043 {'max_features': 8, 'n_estimators': 3}\n",
      "52355.580920360204 {'max_features': 8, 'n_estimators': 10}\n",
      "50415.84148783764 {'max_features': 8, 'n_estimators': 30}\n",
      "62043.07328839486 {'bootstrap': False, 'max_features': 2, 'n_estimators': 3}\n",
      "54232.874267403175 {'bootstrap': False, 'max_features': 2, 'n_estimators': 10}\n",
      "56676.063328380515 {'bootstrap': False, 'max_features': 4, 'n_estimators': 3}\n",
      "51209.39534692517 {'bootstrap': False, 'max_features': 4, 'n_estimators': 10}\n",
      "56455.37203825882 {'bootstrap': False, 'max_features': 6, 'n_estimators': 3}\n",
      "51381.40553725375 {'bootstrap': False, 'max_features': 6, 'n_estimators': 10}\n"
     ]
    }
   ],
   "source": [
    "# Cross-Validation\n",
    "cvres = grid_search.cv_results_\n",
    "\n",
    "for mean_score, params in zip(cvres[\"mean_test_score\"], cvres[\"params\"]):\n",
    "    print(np.sqrt(-mean_score), params)"
   ]
  },
  {
   "cell_type": "code",
   "execution_count": 117,
   "id": "23bf61de",
   "metadata": {},
   "outputs": [
    {
     "data": {
      "text/html": [
       "<div>\n",
       "<style scoped>\n",
       "    .dataframe tbody tr th:only-of-type {\n",
       "        vertical-align: middle;\n",
       "    }\n",
       "\n",
       "    .dataframe tbody tr th {\n",
       "        vertical-align: top;\n",
       "    }\n",
       "\n",
       "    .dataframe thead th {\n",
       "        text-align: right;\n",
       "    }\n",
       "</style>\n",
       "<table border=\"1\" class=\"dataframe\">\n",
       "  <thead>\n",
       "    <tr style=\"text-align: right;\">\n",
       "      <th></th>\n",
       "      <th>mean_fit_time</th>\n",
       "      <th>std_fit_time</th>\n",
       "      <th>mean_score_time</th>\n",
       "      <th>std_score_time</th>\n",
       "      <th>param_max_features</th>\n",
       "      <th>param_n_estimators</th>\n",
       "      <th>param_bootstrap</th>\n",
       "      <th>params</th>\n",
       "      <th>split0_test_score</th>\n",
       "      <th>split1_test_score</th>\n",
       "      <th>...</th>\n",
       "      <th>mean_test_score</th>\n",
       "      <th>std_test_score</th>\n",
       "      <th>rank_test_score</th>\n",
       "      <th>split0_train_score</th>\n",
       "      <th>split1_train_score</th>\n",
       "      <th>split2_train_score</th>\n",
       "      <th>split3_train_score</th>\n",
       "      <th>split4_train_score</th>\n",
       "      <th>mean_train_score</th>\n",
       "      <th>std_train_score</th>\n",
       "    </tr>\n",
       "  </thead>\n",
       "  <tbody>\n",
       "    <tr>\n",
       "      <th>0</th>\n",
       "      <td>0.191217</td>\n",
       "      <td>0.051785</td>\n",
       "      <td>0.011001</td>\n",
       "      <td>0.002449</td>\n",
       "      <td>2</td>\n",
       "      <td>3</td>\n",
       "      <td>NaN</td>\n",
       "      <td>{'max_features': 2, 'n_estimators': 3}</td>\n",
       "      <td>-3.978911e+09</td>\n",
       "      <td>-4.156307e+09</td>\n",
       "      <td>...</td>\n",
       "      <td>-4.045787e+09</td>\n",
       "      <td>1.841437e+08</td>\n",
       "      <td>18</td>\n",
       "      <td>-1.163220e+09</td>\n",
       "      <td>-1.085596e+09</td>\n",
       "      <td>-1.116596e+09</td>\n",
       "      <td>-1.128897e+09</td>\n",
       "      <td>-1.052073e+09</td>\n",
       "      <td>-1.109276e+09</td>\n",
       "      <td>3.789838e+07</td>\n",
       "    </tr>\n",
       "    <tr>\n",
       "      <th>1</th>\n",
       "      <td>0.492409</td>\n",
       "      <td>0.036135</td>\n",
       "      <td>0.023223</td>\n",
       "      <td>0.004777</td>\n",
       "      <td>2</td>\n",
       "      <td>10</td>\n",
       "      <td>NaN</td>\n",
       "      <td>{'max_features': 2, 'n_estimators': 10}</td>\n",
       "      <td>-2.948925e+09</td>\n",
       "      <td>-3.155794e+09</td>\n",
       "      <td>...</td>\n",
       "      <td>-3.065868e+09</td>\n",
       "      <td>9.241808e+07</td>\n",
       "      <td>11</td>\n",
       "      <td>-6.072273e+08</td>\n",
       "      <td>-5.928923e+08</td>\n",
       "      <td>-5.798419e+08</td>\n",
       "      <td>-5.725821e+08</td>\n",
       "      <td>-5.951777e+08</td>\n",
       "      <td>-5.895443e+08</td>\n",
       "      <td>1.214483e+07</td>\n",
       "    </tr>\n",
       "    <tr>\n",
       "      <th>2</th>\n",
       "      <td>1.132055</td>\n",
       "      <td>0.084908</td>\n",
       "      <td>0.045915</td>\n",
       "      <td>0.004072</td>\n",
       "      <td>2</td>\n",
       "      <td>30</td>\n",
       "      <td>NaN</td>\n",
       "      <td>{'max_features': 2, 'n_estimators': 30}</td>\n",
       "      <td>-2.718804e+09</td>\n",
       "      <td>-2.862540e+09</td>\n",
       "      <td>...</td>\n",
       "      <td>-2.800190e+09</td>\n",
       "      <td>6.406475e+07</td>\n",
       "      <td>9</td>\n",
       "      <td>-4.452099e+08</td>\n",
       "      <td>-4.342153e+08</td>\n",
       "      <td>-4.372226e+08</td>\n",
       "      <td>-4.218954e+08</td>\n",
       "      <td>-4.334064e+08</td>\n",
       "      <td>-4.343899e+08</td>\n",
       "      <td>7.512745e+06</td>\n",
       "    </tr>\n",
       "    <tr>\n",
       "      <th>3</th>\n",
       "      <td>0.160616</td>\n",
       "      <td>0.008544</td>\n",
       "      <td>0.006187</td>\n",
       "      <td>0.001476</td>\n",
       "      <td>4</td>\n",
       "      <td>3</td>\n",
       "      <td>NaN</td>\n",
       "      <td>{'max_features': 4, 'n_estimators': 3}</td>\n",
       "      <td>-3.469800e+09</td>\n",
       "      <td>-3.509977e+09</td>\n",
       "      <td>...</td>\n",
       "      <td>-3.570256e+09</td>\n",
       "      <td>8.061368e+07</td>\n",
       "      <td>16</td>\n",
       "      <td>-9.663922e+08</td>\n",
       "      <td>-9.904968e+08</td>\n",
       "      <td>-9.744632e+08</td>\n",
       "      <td>-9.541239e+08</td>\n",
       "      <td>-9.639491e+08</td>\n",
       "      <td>-9.698850e+08</td>\n",
       "      <td>1.217909e+07</td>\n",
       "    </tr>\n",
       "    <tr>\n",
       "      <th>4</th>\n",
       "      <td>0.964503</td>\n",
       "      <td>0.504670</td>\n",
       "      <td>0.024305</td>\n",
       "      <td>0.003080</td>\n",
       "      <td>4</td>\n",
       "      <td>10</td>\n",
       "      <td>NaN</td>\n",
       "      <td>{'max_features': 4, 'n_estimators': 10}</td>\n",
       "      <td>-2.735725e+09</td>\n",
       "      <td>-2.817326e+09</td>\n",
       "      <td>...</td>\n",
       "      <td>-2.749349e+09</td>\n",
       "      <td>5.618628e+07</td>\n",
       "      <td>8</td>\n",
       "      <td>-5.233195e+08</td>\n",
       "      <td>-5.257247e+08</td>\n",
       "      <td>-5.227373e+08</td>\n",
       "      <td>-5.178505e+08</td>\n",
       "      <td>-5.129479e+08</td>\n",
       "      <td>-5.205160e+08</td>\n",
       "      <td>4.567380e+06</td>\n",
       "    </tr>\n",
       "  </tbody>\n",
       "</table>\n",
       "<p>5 rows × 23 columns</p>\n",
       "</div>"
      ],
      "text/plain": [
       "   mean_fit_time  std_fit_time  mean_score_time  std_score_time  \\\n",
       "0       0.191217      0.051785         0.011001        0.002449   \n",
       "1       0.492409      0.036135         0.023223        0.004777   \n",
       "2       1.132055      0.084908         0.045915        0.004072   \n",
       "3       0.160616      0.008544         0.006187        0.001476   \n",
       "4       0.964503      0.504670         0.024305        0.003080   \n",
       "\n",
       "  param_max_features param_n_estimators param_bootstrap  \\\n",
       "0                  2                  3             NaN   \n",
       "1                  2                 10             NaN   \n",
       "2                  2                 30             NaN   \n",
       "3                  4                  3             NaN   \n",
       "4                  4                 10             NaN   \n",
       "\n",
       "                                    params  split0_test_score  \\\n",
       "0   {'max_features': 2, 'n_estimators': 3}      -3.978911e+09   \n",
       "1  {'max_features': 2, 'n_estimators': 10}      -2.948925e+09   \n",
       "2  {'max_features': 2, 'n_estimators': 30}      -2.718804e+09   \n",
       "3   {'max_features': 4, 'n_estimators': 3}      -3.469800e+09   \n",
       "4  {'max_features': 4, 'n_estimators': 10}      -2.735725e+09   \n",
       "\n",
       "   split1_test_score  ...  mean_test_score  std_test_score  rank_test_score  \\\n",
       "0      -4.156307e+09  ...    -4.045787e+09    1.841437e+08               18   \n",
       "1      -3.155794e+09  ...    -3.065868e+09    9.241808e+07               11   \n",
       "2      -2.862540e+09  ...    -2.800190e+09    6.406475e+07                9   \n",
       "3      -3.509977e+09  ...    -3.570256e+09    8.061368e+07               16   \n",
       "4      -2.817326e+09  ...    -2.749349e+09    5.618628e+07                8   \n",
       "\n",
       "   split0_train_score  split1_train_score  split2_train_score  \\\n",
       "0       -1.163220e+09       -1.085596e+09       -1.116596e+09   \n",
       "1       -6.072273e+08       -5.928923e+08       -5.798419e+08   \n",
       "2       -4.452099e+08       -4.342153e+08       -4.372226e+08   \n",
       "3       -9.663922e+08       -9.904968e+08       -9.744632e+08   \n",
       "4       -5.233195e+08       -5.257247e+08       -5.227373e+08   \n",
       "\n",
       "   split3_train_score  split4_train_score  mean_train_score  std_train_score  \n",
       "0       -1.128897e+09       -1.052073e+09     -1.109276e+09     3.789838e+07  \n",
       "1       -5.725821e+08       -5.951777e+08     -5.895443e+08     1.214483e+07  \n",
       "2       -4.218954e+08       -4.334064e+08     -4.343899e+08     7.512745e+06  \n",
       "3       -9.541239e+08       -9.639491e+08     -9.698850e+08     1.217909e+07  \n",
       "4       -5.178505e+08       -5.129479e+08     -5.205160e+08     4.567380e+06  \n",
       "\n",
       "[5 rows x 23 columns]"
      ]
     },
     "execution_count": 117,
     "metadata": {},
     "output_type": "execute_result"
    }
   ],
   "source": [
    "pd.DataFrame(grid_search.cv_results_).head()"
   ]
  },
  {
   "cell_type": "markdown",
   "id": "cbef7d21",
   "metadata": {},
   "source": [
    "### Randomized Search"
   ]
  },
  {
   "cell_type": "markdown",
   "id": "5b085548",
   "metadata": {},
   "source": [
    "`Randomized Search` allows us to more easily find the hyperparameters that we are interested in as it only picks a few combinations instead of all."
   ]
  },
  {
   "cell_type": "code",
   "execution_count": 119,
   "id": "f750b770",
   "metadata": {},
   "outputs": [
    {
     "data": {
      "text/plain": [
       "RandomizedSearchCV(cv=5, estimator=RandomForestRegressor(random_state=33),\n",
       "                   param_distributions={'max_features': <scipy.stats._distn_infrastructure.rv_frozen object at 0x000001925D37BB50>,\n",
       "                                        'n_estimators': <scipy.stats._distn_infrastructure.rv_frozen object at 0x000001925D378DC0>},\n",
       "                   random_state=33, scoring='neg_mean_squared_error')"
      ]
     },
     "execution_count": 119,
     "metadata": {},
     "output_type": "execute_result"
    }
   ],
   "source": [
    "from sklearn.model_selection import RandomizedSearchCV\n",
    "from scipy.stats import randint\n",
    "\n",
    "params_dist = {'n_estimators': randint(low=1, high=100), 'max_features': randint(low=1, high=8)}\n",
    "\n",
    "forest_reg = RandomForestRegressor(random_state=33)\n",
    "rnd_search = RandomizedSearchCV(forest_reg, param_distributions=params_dist, n_iter=10, cv=5, scoring=\"neg_mean_squared_error\", random_state=33)\n",
    "\n",
    "rnd_search.fit(train_data, train_labels)"
   ]
  },
  {
   "cell_type": "code",
   "execution_count": 120,
   "id": "03dbcc09",
   "metadata": {},
   "outputs": [
    {
     "name": "stdout",
     "output_type": "stream",
     "text": [
      "52854.94264121045 {'max_features': 5, 'n_estimators': 8}\n",
      "55025.85988294398 {'max_features': 1, 'n_estimators': 67}\n",
      "50144.37911921403 {'max_features': 3, 'n_estimators': 74}\n",
      "51933.708529757525 {'max_features': 2, 'n_estimators': 68}\n",
      "49551.46844663286 {'max_features': 7, 'n_estimators': 62}\n",
      "51300.400615231 {'max_features': 4, 'n_estimators': 15}\n",
      "49464.08586048512 {'max_features': 5, 'n_estimators': 43}\n",
      "49941.10876697114 {'max_features': 6, 'n_estimators': 36}\n",
      "51858.172505145194 {'max_features': 2, 'n_estimators': 78}\n",
      "51691.27941176047 {'max_features': 5, 'n_estimators': 13}\n"
     ]
    }
   ],
   "source": [
    "# Cross-Validation\n",
    "cvres = rnd_search.cv_results_\n",
    "\n",
    "for mean_score, params in zip(cvres[\"mean_test_score\"], cvres[\"params\"]):\n",
    "    print(np.sqrt(-mean_score), params)"
   ]
  },
  {
   "cell_type": "code",
   "execution_count": 123,
   "id": "760cae79",
   "metadata": {},
   "outputs": [
    {
     "data": {
      "text/plain": [
       "array([0.07854406, 0.07755094, 0.04055565, 0.01964743, 0.01895819,\n",
       "       0.01957895, 0.01775273, 0.33013265, 0.02643325, 0.10829186,\n",
       "       0.09639477, 0.0203942 , 0.134115  , 0.00618586, 0.00546447])"
      ]
     },
     "execution_count": 123,
     "metadata": {},
     "output_type": "execute_result"
    }
   ],
   "source": [
    "feature_importances = rnd_search.best_estimator_.feature_importances_\n",
    "feature_importances"
   ]
  },
  {
   "cell_type": "markdown",
   "id": "853342a8",
   "metadata": {},
   "source": [
    "### Feature Importance List"
   ]
  },
  {
   "cell_type": "code",
   "execution_count": 129,
   "id": "7e1ea588",
   "metadata": {},
   "outputs": [
    {
     "data": {
      "text/plain": [
       "{'longitude': 0.07854405549008579,\n",
       " 'latitude': 0.07755093820643545,\n",
       " 'housing_median_age': 0.040555646823902995,\n",
       " 'total_rooms': 0.019647434514936717,\n",
       " 'total_bedrooms': 0.01895818736961219,\n",
       " 'population': 0.01957895040611974,\n",
       " 'households': 0.01775273029027066,\n",
       " 'median_income': 0.330132646054484,\n",
       " 'bedrooms_per_household': 0.026433249518401588,\n",
       " 'population_per_household': 0.1082918564944231,\n",
       " 'rooms_per_household': 0.0963947669657151,\n",
       " '<1H OCEAN': 0.020394198067883156,\n",
       " 'INLAND': 0.13411500271942783,\n",
       " 'NEAR BAY': 0.006185862862739812,\n",
       " 'NEAR OCEAN': 0.005464474215562024}"
      ]
     },
     "execution_count": 129,
     "metadata": {},
     "output_type": "execute_result"
    }
   ],
   "source": [
    "feature_importances_dict = dict(zip(train_features, list(feature_importances)))\n",
    "feature_importances_dict"
   ]
  },
  {
   "cell_type": "code",
   "execution_count": 134,
   "id": "44418439",
   "metadata": {},
   "outputs": [
    {
     "data": {
      "image/png": "[encoded data removed]",
      "text/plain": [
       "<Figure size 648x432 with 1 Axes>"
      ]
     },
     "metadata": {
      "needs_background": "light"
     },
     "output_type": "display_data"
    }
   ],
   "source": [
    "fig, ax = plt.subplots(figsize=(9,6))\n",
    "plt.barh(y= list(feature_importances_dict.keys()), width=list(feature_importances_list.values()))\n",
    "plt.show()"
   ]
  },
  {
   "cell_type": "code",
   "execution_count": 135,
   "id": "1d5d0f44",
   "metadata": {},
   "outputs": [],
   "source": [
    "final_model = grid_search.best_estimator_\n",
    "\n",
    "final_predictions = final_model.predict(test_data)\n",
    "\n",
    "final_mse = mean_squared_error(test_labels, final_predictions)\n",
    "final_rmse = np.sqrt(final_mse)"
   ]
  },
  {
   "cell_type": "code",
   "execution_count": 136,
   "id": "1f352862",
   "metadata": {},
   "outputs": [
    {
     "data": {
      "text/plain": [
       "62566.75792156164"
      ]
     },
     "execution_count": 136,
     "metadata": {},
     "output_type": "execute_result"
    }
   ],
   "source": [
    "final_rmse"
   ]
  }
 ],
 "metadata": {
  "interpreter": {
   "hash": "a531748e617bcbb414e609f070789ea8cc91b86c62b05a2ea079a9f87c677f7b"
  },
  "kernelspec": {
   "display_name": "Python 3.10.4 ('hands_on_ml')",
   "language": "python",
   "name": "python3"
  },
  "language_info": {
   "codemirror_mode": {
    "name": "ipython",
    "version": 3
   },
   "file_extension": ".py",
   "mimetype": "text/x-python",
   "name": "python",
   "nbconvert_exporter": "python",
   "pygments_lexer": "ipython3",
   "version": "3.10.4"
  }
 },
 "nbformat": 4,
 "nbformat_minor": 5
}
